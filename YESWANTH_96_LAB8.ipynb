{
  "cells": [
    {
      "cell_type": "code",
      "execution_count": 1,
      "metadata": {
        "id": "7I0PfHgyaQRp"
      },
      "outputs": [],
      "source": [
        "K.V.YESWANTH\n",
        "BL.EN.U4CSE21096"
      ]
    },
    {
      "cell_type": "code",
      "execution_count": 2,
      "metadata": {
        "id": "uv2MBEjwaYES"
      },
      "outputs": [],
      "source": [
        "import pandas as pd\n",
        "from sklearn.naive_bayes import GaussianNB\n",
        "from sklearn.preprocessing import LabelEncoder\n",
        "from scipy.stats import chi2_contingency\n",
        "data={\n",
        "    'age': ['<=30', '<=30', '31...40', '>40', '>40', '>40', '<=30', '<=30', '>40', '31...40'],\n",
        "    'income': ['high', 'high', 'medium', 'low', 'low', 'low', 'medium', 'low', 'medium', 'medium'],\n",
        "    'student': ['no', 'no', 'no', 'yes', 'yes', 'yes', 'no', 'no', 'yes', 'yes'],\n",
        "    'credit_rating': ['fair', 'fair', 'fair', 'fair', 'fair', 'excellent', 'fair', 'excellent', 'excellent', 'excellent'],\n",
        "    'buys_computer': ['no', 'no', 'yes', 'no', 'yes', 'no', 'yes', 'no', 'yes', 'yes']\n",
        "}\n",
        "df = pd.DataFrame(data)"
      ]
    },
    {
      "cell_type": "code",
      "execution_count": 3,
      "metadata": {
        "colab": {
          "base_uri": "https://localhost:8080/"
        },
        "id": "wSOGA-k-aedO",
        "outputId": "38b8a484-5c79-4659-b64c-7d4361e88fe9"
      },
      "outputs": [
        {
          "name": "stdout",
          "output_type": "stream",
          "text": [
            "Prior Probabilities:\n",
            "no     0.5\n",
            "yes    0.5\n",
            "Name: buys_computer, dtype: float64\n"
          ]
        }
      ],
      "source": [
        "#A1\n",
        "prior_probabilities = df['buys_computer'].value_counts(normalize=True)\n",
        "print(\"Prior Probabilities:\")\n",
        "print(prior_probabilities)"
      ]
    },
    {
      "cell_type": "code",
      "execution_count": 4,
      "metadata": {
        "colab": {
          "base_uri": "https://localhost:8080/"
        },
        "id": "bXaoPKQAajDO",
        "outputId": "c9a34fec-58a9-45f7-87b1-2534a4f3d9c9"
      },
      "outputs": [
        {
          "name": "stdout",
          "output_type": "stream",
          "text": [
            "Class Conditional Densities:\n",
            "[[1.4 0.6 0.4 0.6]\n",
            " [1.  1.8 0.6 0.6]]\n"
          ]
        }
      ],
      "source": [
        "#A2\n",
        "target_variable = 'buys_computer'\n",
        "X = df.drop(target_variable, axis=1)\n",
        "y = df[target_variable]\n",
        "label_encoder = LabelEncoder()\n",
        "X_encoded = X.apply(label_encoder.fit_transform)\n",
        "model = GaussianNB()\n",
        "model.fit(X_encoded, y)\n",
        "class_conditional_densities = model.theta_\n",
        "print(\"Class Conditional Densities:\")\n",
        "print(class_conditional_densities)"
      ]
    },
    {
      "cell_type": "code",
      "execution_count": 5,
      "metadata": {
        "colab": {
          "base_uri": "https://localhost:8080/"
        },
        "id": "6MQBOeoSammV",
        "outputId": "2189cba6-c617-44e8-c0ba-2346bed29f4c"
      },
      "outputs": [
        {
          "name": "stdout",
          "output_type": "stream",
          "text": [
            "Chi-squared test for independence between age and income:\n",
            "Chi2: 7.5, p-value: 0.11170929281604328\n",
            "Conclusion: Independent\n",
            "\n",
            "Chi-squared test for independence between age and student:\n",
            "Chi2: 8.0, p-value: 0.018315638888734182\n",
            "Conclusion: Not Independent\n",
            "\n",
            "Chi-squared test for independence between age and credit_rating:\n",
            "Chi2: 0.625, p-value: 0.7316156289466418\n",
            "Conclusion: Independent\n",
            "\n",
            "Chi-squared test for independence between income and age:\n",
            "Chi2: 7.499999999999999, p-value: 0.1117092928160433\n",
            "Conclusion: Independent\n",
            "\n",
            "Chi-squared test for independence between income and student:\n",
            "Chi2: 3.0, p-value: 0.22313016014842982\n",
            "Conclusion: Independent\n",
            "\n",
            "Chi-squared test for independence between income and credit_rating:\n",
            "Chi2: 1.6666666666666665, p-value: 0.4345982085070783\n",
            "Conclusion: Independent\n",
            "\n",
            "Chi-squared test for independence between student and age:\n",
            "Chi2: 8.0, p-value: 0.018315638888734182\n",
            "Conclusion: Not Independent\n",
            "\n",
            "Chi-squared test for independence between student and income:\n",
            "Chi2: 3.0, p-value: 0.22313016014842982\n",
            "Conclusion: Independent\n",
            "\n",
            "Chi-squared test for independence between student and credit_rating:\n",
            "Chi2: 0.41666666666666663, p-value: 0.5186050164287255\n",
            "Conclusion: Independent\n",
            "\n",
            "Chi-squared test for independence between credit_rating and age:\n",
            "Chi2: 0.625, p-value: 0.7316156289466418\n",
            "Conclusion: Independent\n",
            "\n",
            "Chi-squared test for independence between credit_rating and income:\n",
            "Chi2: 1.6666666666666667, p-value: 0.4345982085070783\n",
            "Conclusion: Independent\n",
            "\n",
            "Chi-squared test for independence between credit_rating and student:\n",
            "Chi2: 0.41666666666666663, p-value: 0.5186050164287255\n",
            "Conclusion: Independent\n",
            "\n"
          ]
        }
      ],
      "source": [
        "#A3\n",
        "categorical_features = ['age', 'income', 'student', 'credit_rating']\n",
        "for feature1 in categorical_features:\n",
        "    for feature2 in categorical_features:\n",
        "        if feature1 != feature2:\n",
        "            contingency_table = pd.crosstab(df[feature1], df[feature2])\n",
        "            chi2, p, _, _ = chi2_contingency(contingency_table)\n",
        "            print(f\"Chi-squared test for independence between {feature1} and {feature2}:\")\n",
        "            print(f\"Chi2: {chi2}, p-value: {p}\")\n",
        "            alpha = 0.05\n",
        "            if p <= alpha:\n",
        "              print(f\"Conclusion: Not Independent\\n\")\n",
        "            else:\n",
        "              print(f\"Conclusion: Independent\\n\")"
      ]
    },
    {
      "cell_type": "code",
      "execution_count": 6,
      "metadata": {
        "colab": {
          "base_uri": "https://localhost:8080/",
          "height": 75
        },
        "id": "WvMwPBF_asHa",
        "outputId": "e10c8d80-d0ef-4d12-a67d-848ea85c7a19"
      },
      "outputs": [
        {
          "data": {
            "text/html": [
              "<style>#sk-container-id-1 {color: black;background-color: white;}#sk-container-id-1 pre{padding: 0;}#sk-container-id-1 div.sk-toggleable {background-color: white;}#sk-container-id-1 label.sk-toggleable__label {cursor: pointer;display: block;width: 100%;margin-bottom: 0;padding: 0.3em;box-sizing: border-box;text-align: center;}#sk-container-id-1 label.sk-toggleable__label-arrow:before {content: \"▸\";float: left;margin-right: 0.25em;color: #696969;}#sk-container-id-1 label.sk-toggleable__label-arrow:hover:before {color: black;}#sk-container-id-1 div.sk-estimator:hover label.sk-toggleable__label-arrow:before {color: black;}#sk-container-id-1 div.sk-toggleable__content {max-height: 0;max-width: 0;overflow: hidden;text-align: left;background-color: #f0f8ff;}#sk-container-id-1 div.sk-toggleable__content pre {margin: 0.2em;color: black;border-radius: 0.25em;background-color: #f0f8ff;}#sk-container-id-1 input.sk-toggleable__control:checked~div.sk-toggleable__content {max-height: 200px;max-width: 100%;overflow: auto;}#sk-container-id-1 input.sk-toggleable__control:checked~label.sk-toggleable__label-arrow:before {content: \"▾\";}#sk-container-id-1 div.sk-estimator input.sk-toggleable__control:checked~label.sk-toggleable__label {background-color: #d4ebff;}#sk-container-id-1 div.sk-label input.sk-toggleable__control:checked~label.sk-toggleable__label {background-color: #d4ebff;}#sk-container-id-1 input.sk-hidden--visually {border: 0;clip: rect(1px 1px 1px 1px);clip: rect(1px, 1px, 1px, 1px);height: 1px;margin: -1px;overflow: hidden;padding: 0;position: absolute;width: 1px;}#sk-container-id-1 div.sk-estimator {font-family: monospace;background-color: #f0f8ff;border: 1px dotted black;border-radius: 0.25em;box-sizing: border-box;margin-bottom: 0.5em;}#sk-container-id-1 div.sk-estimator:hover {background-color: #d4ebff;}#sk-container-id-1 div.sk-parallel-item::after {content: \"\";width: 100%;border-bottom: 1px solid gray;flex-grow: 1;}#sk-container-id-1 div.sk-label:hover label.sk-toggleable__label {background-color: #d4ebff;}#sk-container-id-1 div.sk-serial::before {content: \"\";position: absolute;border-left: 1px solid gray;box-sizing: border-box;top: 0;bottom: 0;left: 50%;z-index: 0;}#sk-container-id-1 div.sk-serial {display: flex;flex-direction: column;align-items: center;background-color: white;padding-right: 0.2em;padding-left: 0.2em;position: relative;}#sk-container-id-1 div.sk-item {position: relative;z-index: 1;}#sk-container-id-1 div.sk-parallel {display: flex;align-items: stretch;justify-content: center;background-color: white;position: relative;}#sk-container-id-1 div.sk-item::before, #sk-container-id-1 div.sk-parallel-item::before {content: \"\";position: absolute;border-left: 1px solid gray;box-sizing: border-box;top: 0;bottom: 0;left: 50%;z-index: -1;}#sk-container-id-1 div.sk-parallel-item {display: flex;flex-direction: column;z-index: 1;position: relative;background-color: white;}#sk-container-id-1 div.sk-parallel-item:first-child::after {align-self: flex-end;width: 50%;}#sk-container-id-1 div.sk-parallel-item:last-child::after {align-self: flex-start;width: 50%;}#sk-container-id-1 div.sk-parallel-item:only-child::after {width: 0;}#sk-container-id-1 div.sk-dashed-wrapped {border: 1px dashed gray;margin: 0 0.4em 0.5em 0.4em;box-sizing: border-box;padding-bottom: 0.4em;background-color: white;}#sk-container-id-1 div.sk-label label {font-family: monospace;font-weight: bold;display: inline-block;line-height: 1.2em;}#sk-container-id-1 div.sk-label-container {text-align: center;}#sk-container-id-1 div.sk-container {/* jupyter's `normalize.less` sets `[hidden] { display: none; }` but bootstrap.min.css set `[hidden] { display: none !important; }` so we also need the `!important` here to be able to override the default hidden behavior on the sphinx rendered scikit-learn.org. See: https://github.com/scikit-learn/scikit-learn/issues/21755 */display: inline-block !important;position: relative;}#sk-container-id-1 div.sk-text-repr-fallback {display: none;}</style><div id=\"sk-container-id-1\" class=\"sk-top-container\"><div class=\"sk-text-repr-fallback\"><pre>GaussianNB()</pre><b>In a Jupyter environment, please rerun this cell to show the HTML representation or trust the notebook. <br />On GitHub, the HTML representation is unable to render, please try loading this page with nbviewer.org.</b></div><div class=\"sk-container\" hidden><div class=\"sk-item\"><div class=\"sk-estimator sk-toggleable\"><input class=\"sk-toggleable__control sk-hidden--visually\" id=\"sk-estimator-id-1\" type=\"checkbox\" checked><label for=\"sk-estimator-id-1\" class=\"sk-toggleable__label sk-toggleable__label-arrow\">GaussianNB</label><div class=\"sk-toggleable__content\"><pre>GaussianNB()</pre></div></div></div></div></div>"
            ],
            "text/plain": [
              "GaussianNB()"
            ]
          },
          "execution_count": 6,
          "metadata": {},
          "output_type": "execute_result"
        }
      ],
      "source": [
        "#A4\n",
        "label_encoder = LabelEncoder()\n",
        "df['age'] = label_encoder.fit_transform(df['age'])\n",
        "df['income'] = label_encoder.fit_transform(df['income'])\n",
        "df['student'] = label_encoder.fit_transform(df['student'])\n",
        "df['credit_rating'] = label_encoder.fit_transform(df['credit_rating'])\n",
        "df['buys_computer'] = label_encoder.fit_transform(df['buys_computer'])\n",
        "X = df.drop('buys_computer', axis=1)\n",
        "y = df['buys_computer']\n",
        "model = GaussianNB()\n",
        "model.fit(X, y)"
      ]
    }
  ],
  "metadata": {
    "colab": {
      "provenance": []
    },
    "kernelspec": {
      "display_name": "Python 3",
      "name": "python3"
    },
    "language_info": {
      "name": "python"
    }
  },
  "nbformat": 4,
  "nbformat_minor": 0
}
